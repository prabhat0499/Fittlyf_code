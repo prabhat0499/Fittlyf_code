{
 "cells": [
  {
   "cell_type": "markdown",
   "id": "6c4a5ad4",
   "metadata": {},
   "source": [
    "#### Name- Prabhat Dangi\n",
    "#### College- Indian Institute of Petroleum and Energy, Vizag."
   ]
  },
  {
   "cell_type": "markdown",
   "id": "50c6f36e",
   "metadata": {},
   "source": [
    "### Fittlyf Assignment "
   ]
  },
  {
   "cell_type": "markdown",
   "id": "704d3944",
   "metadata": {},
   "source": [
    "# Q.1 "
   ]
  },
  {
   "cell_type": "markdown",
   "id": "395b58c4",
   "metadata": {},
   "source": [
    "### Importing the dataset along with necessary modules and libraries."
   ]
  },
  {
   "cell_type": "code",
   "execution_count": 1,
   "id": "8800b187",
   "metadata": {},
   "outputs": [],
   "source": [
    "import pandas as pd\n",
    "import numpy as np\n",
    "import seaborn as sns\n",
    "import matplotlib.pyplot as plt\n",
    "%matplotlib inline"
   ]
  },
  {
   "cell_type": "code",
   "execution_count": 2,
   "id": "3d1c87f1",
   "metadata": {},
   "outputs": [
    {
     "data": {
      "text/html": [
       "<div>\n",
       "<style scoped>\n",
       "    .dataframe tbody tr th:only-of-type {\n",
       "        vertical-align: middle;\n",
       "    }\n",
       "\n",
       "    .dataframe tbody tr th {\n",
       "        vertical-align: top;\n",
       "    }\n",
       "\n",
       "    .dataframe thead th {\n",
       "        text-align: right;\n",
       "    }\n",
       "</style>\n",
       "<table border=\"1\" class=\"dataframe\">\n",
       "  <thead>\n",
       "    <tr style=\"text-align: right;\">\n",
       "      <th></th>\n",
       "      <th>acct_id</th>\n",
       "      <th>FICO</th>\n",
       "    </tr>\n",
       "  </thead>\n",
       "  <tbody>\n",
       "    <tr>\n",
       "      <th>0</th>\n",
       "      <td>1</td>\n",
       "      <td>768</td>\n",
       "    </tr>\n",
       "    <tr>\n",
       "      <th>1</th>\n",
       "      <td>2</td>\n",
       "      <td>850</td>\n",
       "    </tr>\n",
       "    <tr>\n",
       "      <th>2</th>\n",
       "      <td>3</td>\n",
       "      <td>677</td>\n",
       "    </tr>\n",
       "    <tr>\n",
       "      <th>3</th>\n",
       "      <td>4</td>\n",
       "      <td>843</td>\n",
       "    </tr>\n",
       "    <tr>\n",
       "      <th>4</th>\n",
       "      <td>5</td>\n",
       "      <td>796</td>\n",
       "    </tr>\n",
       "    <tr>\n",
       "      <th>...</th>\n",
       "      <td>...</td>\n",
       "      <td>...</td>\n",
       "    </tr>\n",
       "    <tr>\n",
       "      <th>100008</th>\n",
       "      <td>99996</td>\n",
       "      <td>NaN</td>\n",
       "    </tr>\n",
       "    <tr>\n",
       "      <th>100009</th>\n",
       "      <td>99997</td>\n",
       "      <td>NaN</td>\n",
       "    </tr>\n",
       "    <tr>\n",
       "      <th>100010</th>\n",
       "      <td>99998</td>\n",
       "      <td>NaN</td>\n",
       "    </tr>\n",
       "    <tr>\n",
       "      <th>100011</th>\n",
       "      <td>99999</td>\n",
       "      <td>SSS</td>\n",
       "    </tr>\n",
       "    <tr>\n",
       "      <th>100012</th>\n",
       "      <td>100000</td>\n",
       "      <td>NaN</td>\n",
       "    </tr>\n",
       "  </tbody>\n",
       "</table>\n",
       "<p>100013 rows × 2 columns</p>\n",
       "</div>"
      ],
      "text/plain": [
       "        acct_id FICO\n",
       "0             1  768\n",
       "1             2  850\n",
       "2             3  677\n",
       "3             4  843\n",
       "4             5  796\n",
       "...         ...  ...\n",
       "100008    99996  NaN\n",
       "100009    99997  NaN\n",
       "100010    99998  NaN\n",
       "100011    99999  SSS\n",
       "100012   100000  NaN\n",
       "\n",
       "[100013 rows x 2 columns]"
      ]
     },
     "execution_count": 2,
     "metadata": {},
     "output_type": "execute_result"
    }
   ],
   "source": [
    "df_fico=pd.read_csv(r'E:\\Downloads\\fico.csv')\n",
    "df_fico"
   ]
  },
  {
   "cell_type": "markdown",
   "id": "ea403af0",
   "metadata": {},
   "source": [
    "### 1.1. Data Preprocessing (Cleaning the dataset-Missing/duplicates/errors)"
   ]
  },
  {
   "cell_type": "code",
   "execution_count": 3,
   "id": "8018726d",
   "metadata": {},
   "outputs": [
    {
     "data": {
      "text/plain": [
       "Index(['acct_id', 'FICO'], dtype='object')"
      ]
     },
     "execution_count": 3,
     "metadata": {},
     "output_type": "execute_result"
    }
   ],
   "source": [
    "df_fico.columns"
   ]
  },
  {
   "cell_type": "code",
   "execution_count": 4,
   "id": "0b3c66aa",
   "metadata": {},
   "outputs": [
    {
     "name": "stdout",
     "output_type": "stream",
     "text": [
      "<class 'pandas.core.frame.DataFrame'>\n",
      "RangeIndex: 100013 entries, 0 to 100012\n",
      "Data columns (total 2 columns):\n",
      " #   Column   Non-Null Count   Dtype \n",
      "---  ------   --------------   ----- \n",
      " 0   acct_id  100013 non-null  int64 \n",
      " 1   FICO     70398 non-null   object\n",
      "dtypes: int64(1), object(1)\n",
      "memory usage: 1.5+ MB\n"
     ]
    }
   ],
   "source": [
    "df_fico.info()"
   ]
  },
  {
   "cell_type": "code",
   "execution_count": 5,
   "id": "fe3bba6a",
   "metadata": {},
   "outputs": [
    {
     "data": {
      "text/plain": [
       "acct_id        0\n",
       "FICO       29615\n",
       "dtype: int64"
      ]
     },
     "execution_count": 5,
     "metadata": {},
     "output_type": "execute_result"
    }
   ],
   "source": [
    "df_fico.isnull().sum()"
   ]
  },
  {
   "cell_type": "markdown",
   "id": "3e382bca",
   "metadata": {},
   "source": [
    "* There are nearly 30 % null values in the dataset. Hence we cannot drop those Na values as we might lose information here.\n",
    "* Thus we'll have an alternate to it. We'll replace those null values with the median of the entire variable."
   ]
  },
  {
   "cell_type": "markdown",
   "id": "c179441f",
   "metadata": {},
   "source": [
    "#### Handling Missing values and\n",
    "\n",
    "#### Error Handling.\n",
    "\n",
    "* We are converting the data type of the FICO column to apply the median command.\n",
    "* This also solves the error of the dataset i.e bringing the correct data type of FICO column.\n",
    "* The ddta type of FICO variable was object(string) type whereas originally it contains all the float values.\n",
    "* Thus we have handled this error by changing the data type from object to float."
   ]
  },
  {
   "cell_type": "code",
   "execution_count": 6,
   "id": "a0763064",
   "metadata": {},
   "outputs": [],
   "source": [
    "\n",
    "df_fico['FICO']=df_fico['FICO'].apply(pd.to_numeric,errors='coerce')   \n",
    "df_fico=df_fico.fillna(df_fico.mean())\n"
   ]
  },
  {
   "cell_type": "code",
   "execution_count": 7,
   "id": "c71c7c6b",
   "metadata": {},
   "outputs": [
    {
     "data": {
      "text/html": [
       "<div>\n",
       "<style scoped>\n",
       "    .dataframe tbody tr th:only-of-type {\n",
       "        vertical-align: middle;\n",
       "    }\n",
       "\n",
       "    .dataframe tbody tr th {\n",
       "        vertical-align: top;\n",
       "    }\n",
       "\n",
       "    .dataframe thead th {\n",
       "        text-align: right;\n",
       "    }\n",
       "</style>\n",
       "<table border=\"1\" class=\"dataframe\">\n",
       "  <thead>\n",
       "    <tr style=\"text-align: right;\">\n",
       "      <th></th>\n",
       "      <th>acct_id</th>\n",
       "      <th>FICO</th>\n",
       "    </tr>\n",
       "  </thead>\n",
       "  <tbody>\n",
       "    <tr>\n",
       "      <th>0</th>\n",
       "      <td>1</td>\n",
       "      <td>768.00000</td>\n",
       "    </tr>\n",
       "    <tr>\n",
       "      <th>1</th>\n",
       "      <td>2</td>\n",
       "      <td>850.00000</td>\n",
       "    </tr>\n",
       "    <tr>\n",
       "      <th>2</th>\n",
       "      <td>3</td>\n",
       "      <td>677.00000</td>\n",
       "    </tr>\n",
       "    <tr>\n",
       "      <th>3</th>\n",
       "      <td>4</td>\n",
       "      <td>843.00000</td>\n",
       "    </tr>\n",
       "    <tr>\n",
       "      <th>4</th>\n",
       "      <td>5</td>\n",
       "      <td>796.00000</td>\n",
       "    </tr>\n",
       "    <tr>\n",
       "      <th>...</th>\n",
       "      <td>...</td>\n",
       "      <td>...</td>\n",
       "    </tr>\n",
       "    <tr>\n",
       "      <th>100008</th>\n",
       "      <td>99996</td>\n",
       "      <td>785.74892</td>\n",
       "    </tr>\n",
       "    <tr>\n",
       "      <th>100009</th>\n",
       "      <td>99997</td>\n",
       "      <td>785.74892</td>\n",
       "    </tr>\n",
       "    <tr>\n",
       "      <th>100010</th>\n",
       "      <td>99998</td>\n",
       "      <td>785.74892</td>\n",
       "    </tr>\n",
       "    <tr>\n",
       "      <th>100011</th>\n",
       "      <td>99999</td>\n",
       "      <td>785.74892</td>\n",
       "    </tr>\n",
       "    <tr>\n",
       "      <th>100012</th>\n",
       "      <td>100000</td>\n",
       "      <td>785.74892</td>\n",
       "    </tr>\n",
       "  </tbody>\n",
       "</table>\n",
       "<p>100013 rows × 2 columns</p>\n",
       "</div>"
      ],
      "text/plain": [
       "        acct_id       FICO\n",
       "0             1  768.00000\n",
       "1             2  850.00000\n",
       "2             3  677.00000\n",
       "3             4  843.00000\n",
       "4             5  796.00000\n",
       "...         ...        ...\n",
       "100008    99996  785.74892\n",
       "100009    99997  785.74892\n",
       "100010    99998  785.74892\n",
       "100011    99999  785.74892\n",
       "100012   100000  785.74892\n",
       "\n",
       "[100013 rows x 2 columns]"
      ]
     },
     "execution_count": 7,
     "metadata": {},
     "output_type": "execute_result"
    }
   ],
   "source": [
    "df_fico"
   ]
  },
  {
   "cell_type": "code",
   "execution_count": 8,
   "id": "0facd194",
   "metadata": {},
   "outputs": [
    {
     "name": "stdout",
     "output_type": "stream",
     "text": [
      "<class 'pandas.core.frame.DataFrame'>\n",
      "RangeIndex: 100013 entries, 0 to 100012\n",
      "Data columns (total 2 columns):\n",
      " #   Column   Non-Null Count   Dtype  \n",
      "---  ------   --------------   -----  \n",
      " 0   acct_id  100013 non-null  int64  \n",
      " 1   FICO     100013 non-null  float64\n",
      "dtypes: float64(1), int64(1)\n",
      "memory usage: 1.5 MB\n"
     ]
    }
   ],
   "source": [
    "df_fico.info()"
   ]
  },
  {
   "cell_type": "code",
   "execution_count": 9,
   "id": "97099d72",
   "metadata": {},
   "outputs": [
    {
     "data": {
      "text/plain": [
       "13"
      ]
     },
     "execution_count": 9,
     "metadata": {},
     "output_type": "execute_result"
    }
   ],
   "source": [
    "## Duplicate values\n",
    "\n",
    "df_fico.duplicated().sum()"
   ]
  },
  {
   "cell_type": "markdown",
   "id": "9358faac",
   "metadata": {},
   "source": [
    "* We got 13 duplicate enteries."
   ]
  },
  {
   "cell_type": "code",
   "execution_count": 10,
   "id": "d416a294",
   "metadata": {},
   "outputs": [],
   "source": [
    "df_fico=df_fico.drop_duplicates(keep='first')"
   ]
  },
  {
   "cell_type": "code",
   "execution_count": 11,
   "id": "26fb5af5",
   "metadata": {},
   "outputs": [
    {
     "data": {
      "text/plain": [
       "0"
      ]
     },
     "execution_count": 11,
     "metadata": {},
     "output_type": "execute_result"
    }
   ],
   "source": [
    "df_fico.duplicated().sum()"
   ]
  },
  {
   "cell_type": "markdown",
   "id": "cf910449",
   "metadata": {},
   "source": [
    "### 1. 2. Binning (Bucketing)"
   ]
  },
  {
   "cell_type": "markdown",
   "id": "e7052eaa",
   "metadata": {},
   "source": [
    "#### Q. Why Bucketing ?"
   ]
  },
  {
   "cell_type": "markdown",
   "id": "567f9f43",
   "metadata": {},
   "source": [
    "* Data binning (or bucketing) groups data in bins (or buckets), in the sense that it replaces values contained into a small interval with a single representative value for that interval. Sometimes binning improves accuracy in predictive models."
   ]
  },
  {
   "cell_type": "markdown",
   "id": "b94a6b09",
   "metadata": {},
   "source": [
    "* Also the FICO scores are very conjucted (or very close in numbers) in our dataset and needs to be segregated and categorized to make better conclusions. "
   ]
  },
  {
   "cell_type": "code",
   "execution_count": 12,
   "id": "c1cd11e6",
   "metadata": {},
   "outputs": [
    {
     "name": "stderr",
     "output_type": "stream",
     "text": [
      "C:\\Users\\Prabhat Dangi\\anaconda3\\lib\\site-packages\\seaborn\\distributions.py:2619: FutureWarning: `distplot` is a deprecated function and will be removed in a future version. Please adapt your code to use either `displot` (a figure-level function with similar flexibility) or `histplot` (an axes-level function for histograms).\n",
      "  warnings.warn(msg, FutureWarning)\n"
     ]
    },
    {
     "data": {
      "text/plain": [
       "<AxesSubplot:xlabel='FICO', ylabel='Density'>"
      ]
     },
     "execution_count": 12,
     "metadata": {},
     "output_type": "execute_result"
    },
    {
     "data": {
      "image/png": "[encoded data removed]",
      "text/plain": [
       "<Figure size 432x288 with 1 Axes>"
      ]
     },
     "metadata": {
      "needs_background": "light"
     },
     "output_type": "display_data"
    }
   ],
   "source": [
    "sns.distplot(df_fico['FICO'])      #to see the overall distribution"
   ]
  },
  {
   "cell_type": "markdown",
   "id": "7625d15d",
   "metadata": {},
   "source": [
    "#### Before creating bins, we should have a basic idea about FICO scores.\n",
    "   * A FICO Score is a three-digit number based on the information in your credit reports. \n",
    "######   It helps lenders determine how likely you are to repay a loan. \n",
    "\n",
    "   * This, in turn, affects how much you can borrow, how many months you have to repay, and how much it will cost (the interest rate)."
   ]
  },
  {
   "cell_type": "markdown",
   "id": "21b0521c",
   "metadata": {},
   "source": [
    "* In general, many lenders find scores above 670 as indicating good creditworthiness. \n",
    "* Typically, the higher your score, the lower the risk and the more likely creditors are to lend to you.\n",
    "* There are general score ranges recognized by creditors to help them make lending decisions. \n",
    "* These ranges can also serve as goals for you to achieve.\n",
    "* The scores can be categorzied as below:"
   ]
  },
  {
   "cell_type": "markdown",
   "id": "18526f84",
   "metadata": {},
   "source": [
    "######   Poor      --> (300,580)\n",
    "######   Fair      --> (580,670)\n",
    "######   Good      --> (670,740)\n",
    "######   Very Good --> (740,800)\n",
    "######   Excellent --> (800,850)"
   ]
  },
  {
   "cell_type": "code",
   "execution_count": 13,
   "id": "d2b3b5b3",
   "metadata": {},
   "outputs": [
    {
     "name": "stdout",
     "output_type": "stream",
     "text": [
      "420.0\n",
      "850.0\n"
     ]
    }
   ],
   "source": [
    "## W'll create a range manually here\n",
    "\n",
    "min_value=df_fico['FICO'].min()\n",
    "max_value=df_fico['FICO'].max()\n",
    "print(min_value)\n",
    "print(max_value)"
   ]
  },
  {
   "cell_type": "code",
   "execution_count": 14,
   "id": "69308326",
   "metadata": {},
   "outputs": [
    {
     "data": {
      "text/plain": [
       "[300, 580, 670, 740, 800, 850]"
      ]
     },
     "execution_count": 14,
     "metadata": {},
     "output_type": "execute_result"
    }
   ],
   "source": [
    "bin=[300,580,670,740,800,850]\n",
    "bin"
   ]
  },
  {
   "cell_type": "code",
   "execution_count": 15,
   "id": "b4c5599c",
   "metadata": {},
   "outputs": [],
   "source": [
    "label=['Poor','Fair','Good','Very Good','Excellent']"
   ]
  },
  {
   "cell_type": "code",
   "execution_count": 16,
   "id": "8e253ab1",
   "metadata": {},
   "outputs": [
    {
     "name": "stderr",
     "output_type": "stream",
     "text": [
      "C:\\Users\\PRABHA~1\\AppData\\Local\\Temp/ipykernel_51036/2913253716.py:4: SettingWithCopyWarning: \n",
      "A value is trying to be set on a copy of a slice from a DataFrame.\n",
      "Try using .loc[row_indexer,col_indexer] = value instead\n",
      "\n",
      "See the caveats in the documentation: https://pandas.pydata.org/pandas-docs/stable/user_guide/indexing.html#returning-a-view-versus-a-copy\n",
      "  df_fico['bins']=pd.cut(df_fico['FICO'],bins=bin,labels=label,include_lowest=True)\n"
     ]
    },
    {
     "data": {
      "text/plain": [
       "0         Very Good\n",
       "1         Excellent\n",
       "2              Good\n",
       "3         Excellent\n",
       "4         Very Good\n",
       "            ...    \n",
       "100008    Very Good\n",
       "100009    Very Good\n",
       "100010    Very Good\n",
       "100011    Very Good\n",
       "100012    Very Good\n",
       "Name: bins, Length: 100000, dtype: category\n",
       "Categories (5, object): ['Poor' < 'Fair' < 'Good' < 'Very Good' < 'Excellent']"
      ]
     },
     "execution_count": 16,
     "metadata": {},
     "output_type": "execute_result"
    }
   ],
   "source": [
    "# Using the pd.cut command, we are creating 5 bins here with labels as mentioned. \n",
    "## 'Include lowest' is 'True' to get the idea of order of rating of the score.\n",
    "\n",
    "df_fico['bins']=pd.cut(df_fico['FICO'],bins=bin,labels=label,include_lowest=True)\n",
    "df_fico['bins']"
   ]
  },
  {
   "cell_type": "code",
   "execution_count": 17,
   "id": "89920688",
   "metadata": {},
   "outputs": [
    {
     "name": "stderr",
     "output_type": "stream",
     "text": [
      "C:\\Users\\PRABHA~1\\AppData\\Local\\Temp/ipykernel_51036/3093526570.py:1: SettingWithCopyWarning: \n",
      "A value is trying to be set on a copy of a slice from a DataFrame.\n",
      "Try using .loc[row_indexer,col_indexer] = value instead\n",
      "\n",
      "See the caveats in the documentation: https://pandas.pydata.org/pandas-docs/stable/user_guide/indexing.html#returning-a-view-versus-a-copy\n",
      "  df_fico['bins'] =df_fico['bins'].fillna(method='ffill')    ## using ffill (forward fill) method to fill the null values\n"
     ]
    }
   ],
   "source": [
    "df_fico['bins'] =df_fico['bins'].fillna(method='ffill')    ## using ffill (forward fill) method to fill the null values \n",
    "                                                           ## in the bins columns."
   ]
  },
  {
   "cell_type": "code",
   "execution_count": 18,
   "id": "2c035680",
   "metadata": {},
   "outputs": [
    {
     "data": {
      "text/html": [
       "<div>\n",
       "<style scoped>\n",
       "    .dataframe tbody tr th:only-of-type {\n",
       "        vertical-align: middle;\n",
       "    }\n",
       "\n",
       "    .dataframe tbody tr th {\n",
       "        vertical-align: top;\n",
       "    }\n",
       "\n",
       "    .dataframe thead th {\n",
       "        text-align: right;\n",
       "    }\n",
       "</style>\n",
       "<table border=\"1\" class=\"dataframe\">\n",
       "  <thead>\n",
       "    <tr style=\"text-align: right;\">\n",
       "      <th></th>\n",
       "      <th>acct_id</th>\n",
       "      <th>FICO</th>\n",
       "      <th>bins</th>\n",
       "    </tr>\n",
       "  </thead>\n",
       "  <tbody>\n",
       "    <tr>\n",
       "      <th>76781</th>\n",
       "      <td>76769</td>\n",
       "      <td>759.00000</td>\n",
       "      <td>Very Good</td>\n",
       "    </tr>\n",
       "    <tr>\n",
       "      <th>78189</th>\n",
       "      <td>78177</td>\n",
       "      <td>785.74892</td>\n",
       "      <td>Very Good</td>\n",
       "    </tr>\n",
       "    <tr>\n",
       "      <th>76214</th>\n",
       "      <td>76202</td>\n",
       "      <td>822.00000</td>\n",
       "      <td>Excellent</td>\n",
       "    </tr>\n",
       "    <tr>\n",
       "      <th>82413</th>\n",
       "      <td>82401</td>\n",
       "      <td>850.00000</td>\n",
       "      <td>Excellent</td>\n",
       "    </tr>\n",
       "    <tr>\n",
       "      <th>37562</th>\n",
       "      <td>37550</td>\n",
       "      <td>850.00000</td>\n",
       "      <td>Excellent</td>\n",
       "    </tr>\n",
       "    <tr>\n",
       "      <th>38377</th>\n",
       "      <td>38365</td>\n",
       "      <td>822.00000</td>\n",
       "      <td>Excellent</td>\n",
       "    </tr>\n",
       "    <tr>\n",
       "      <th>53623</th>\n",
       "      <td>53611</td>\n",
       "      <td>837.00000</td>\n",
       "      <td>Excellent</td>\n",
       "    </tr>\n",
       "    <tr>\n",
       "      <th>10528</th>\n",
       "      <td>10524</td>\n",
       "      <td>785.74892</td>\n",
       "      <td>Very Good</td>\n",
       "    </tr>\n",
       "    <tr>\n",
       "      <th>66925</th>\n",
       "      <td>66913</td>\n",
       "      <td>811.00000</td>\n",
       "      <td>Excellent</td>\n",
       "    </tr>\n",
       "    <tr>\n",
       "      <th>6460</th>\n",
       "      <td>6456</td>\n",
       "      <td>820.00000</td>\n",
       "      <td>Excellent</td>\n",
       "    </tr>\n",
       "  </tbody>\n",
       "</table>\n",
       "</div>"
      ],
      "text/plain": [
       "       acct_id       FICO       bins\n",
       "76781    76769  759.00000  Very Good\n",
       "78189    78177  785.74892  Very Good\n",
       "76214    76202  822.00000  Excellent\n",
       "82413    82401  850.00000  Excellent\n",
       "37562    37550  850.00000  Excellent\n",
       "38377    38365  822.00000  Excellent\n",
       "53623    53611  837.00000  Excellent\n",
       "10528    10524  785.74892  Very Good\n",
       "66925    66913  811.00000  Excellent\n",
       "6460      6456  820.00000  Excellent"
      ]
     },
     "execution_count": 18,
     "metadata": {},
     "output_type": "execute_result"
    }
   ],
   "source": [
    "df_fico.sample(10)"
   ]
  },
  {
   "cell_type": "code",
   "execution_count": 19,
   "id": "3371f725",
   "metadata": {},
   "outputs": [
    {
     "data": {
      "text/plain": [
       "0"
      ]
     },
     "execution_count": 19,
     "metadata": {},
     "output_type": "execute_result"
    }
   ],
   "source": [
    "df_fico['bins'].isnull().sum()"
   ]
  },
  {
   "cell_type": "code",
   "execution_count": 20,
   "id": "1c7f2f14",
   "metadata": {},
   "outputs": [
    {
     "name": "stdout",
     "output_type": "stream",
     "text": [
      "<class 'pandas.core.frame.DataFrame'>\n",
      "Int64Index: 100000 entries, 0 to 100012\n",
      "Data columns (total 3 columns):\n",
      " #   Column   Non-Null Count   Dtype   \n",
      "---  ------   --------------   -----   \n",
      " 0   acct_id  100000 non-null  int64   \n",
      " 1   FICO     100000 non-null  float64 \n",
      " 2   bins     100000 non-null  category\n",
      "dtypes: category(1), float64(1), int64(1)\n",
      "memory usage: 2.4 MB\n"
     ]
    }
   ],
   "source": [
    "df_fico.info()"
   ]
  },
  {
   "cell_type": "markdown",
   "id": "0607fa87",
   "metadata": {},
   "source": [
    "##### No of Customers in each of the Groups."
   ]
  },
  {
   "cell_type": "code",
   "execution_count": 21,
   "id": "a3b4b794",
   "metadata": {},
   "outputs": [
    {
     "data": {
      "text/plain": [
       "Very Good    48032\n",
       "Excellent    36583\n",
       "Good         11117\n",
       "Fair          3505\n",
       "Poor           763\n",
       "Name: bins, dtype: int64"
      ]
     },
     "execution_count": 21,
     "metadata": {},
     "output_type": "execute_result"
    }
   ],
   "source": [
    "df_fico['bins'].value_counts()"
   ]
  },
  {
   "cell_type": "markdown",
   "id": "c2d1aa43",
   "metadata": {},
   "source": [
    "###### Percentage of Customers in each Segment"
   ]
  },
  {
   "cell_type": "code",
   "execution_count": 22,
   "id": "f4e92512",
   "metadata": {},
   "outputs": [
    {
     "data": {
      "image/png": "[encoded data removed]",
      "text/plain": [
       "<Figure size 864x576 with 1 Axes>"
      ]
     },
     "metadata": {},
     "output_type": "display_data"
    }
   ],
   "source": [
    "data={'Bins':[48032,36583,11117,3505,763]}\n",
    "df=pd.DataFrame(data,columns=['Bins'],index=['Very Good','Excellent','Good','Fair','Poor'])\n",
    "\n",
    "df.plot.pie(y='Bins',figsize=(12,8),autopct='%2f',startangle=160,shadow=True)\n",
    "plt.title('Percentage of Customers in each section as per FICO SCORES')\n",
    "plt.show()"
   ]
  },
  {
   "cell_type": "markdown",
   "id": "25fc36a2",
   "metadata": {},
   "source": [
    "##### Visulization of the same through a Histogram"
   ]
  },
  {
   "cell_type": "code",
   "execution_count": 23,
   "id": "204ec79e",
   "metadata": {},
   "outputs": [
    {
     "data": {
      "text/plain": [
       "(array([48032., 36583., 11117.,  3505.,   763.]),\n",
       " array([0. , 0.8, 1.6, 2.4, 3.2, 4. ]),\n",
       " <BarContainer object of 5 artists>)"
      ]
     },
     "execution_count": 23,
     "metadata": {},
     "output_type": "execute_result"
    },
    {
     "data": {
      "image/png": "[encoded data removed]",
      "text/plain": [
       "<Figure size 432x288 with 1 Axes>"
      ]
     },
     "metadata": {
      "needs_background": "light"
     },
     "output_type": "display_data"
    }
   ],
   "source": [
    "plt.hist(df_fico['bins'],bins=5)              ## histogram"
   ]
  },
  {
   "cell_type": "code",
   "execution_count": 24,
   "id": "3fed2aeb",
   "metadata": {},
   "outputs": [
    {
     "data": {
      "text/plain": [
       "<AxesSubplot:>"
      ]
     },
     "execution_count": 24,
     "metadata": {},
     "output_type": "execute_result"
    },
    {
     "data": {
      "image/png": "[encoded data removed]",
      "text/plain": [
       "<Figure size 432x288 with 1 Axes>"
      ]
     },
     "metadata": {
      "needs_background": "light"
     },
     "output_type": "display_data"
    }
   ],
   "source": [
    "df_fico['bins'].value_counts().plot(kind='bar')    ##barplot"
   ]
  },
  {
   "cell_type": "markdown",
   "id": "26444ba0",
   "metadata": {},
   "source": [
    "### 1.3"
   ]
  },
  {
   "cell_type": "markdown",
   "id": "d085b974",
   "metadata": {},
   "source": [
    "###  We can clearly see from the above analysis and visulization that:\n",
    "#####  -The highest number customers are having a \"Very Good\" FICO Scores.\n",
    "##### -There is also a good amount of Customers with \"Excellent\" FICO Scores.\n",
    "##### -Only 15 % (nearly) have a fair or good or very poor FICO Scores."
   ]
  },
  {
   "cell_type": "markdown",
   "id": "8aa099e8",
   "metadata": {},
   "source": [
    "### But this is slighly different from what happens in the real world. As:"
   ]
  },
  {
   "cell_type": "markdown",
   "id": "81ae91c4",
   "metadata": {},
   "source": [
    "\n",
    "##### -FICO scores take into account data in five areas to determine creditworthiness: \n",
    "* payment history, \n",
    "* current level of indebtedness, \n",
    "* types of credit used, \n",
    "* length of credit history, and \n",
    "* new credit accounts."
   ]
  },
  {
   "cell_type": "markdown",
   "id": "f6b54a2e",
   "metadata": {},
   "source": [
    "##### -Achieving a high FICO score requires having a mix of credit accounts and maintaining an excellent payment history. \n",
    "##### -Borrowers should also show restraint by keeping their credit card balances well below their limits."
   ]
  },
  {
   "cell_type": "markdown",
   "id": "717be13b",
   "metadata": {},
   "source": [
    "##### -Most consumers have credit scores that fall between 600 and 750.  (Good to Very Good) Range.\n",
    "##### -In 2020, the average FICO Score in the U.S. reached 710 (Very Good)—an increase of seven points from the previous year."
   ]
  },
  {
   "cell_type": "markdown",
   "id": "995bf4ea",
   "metadata": {},
   "source": [
    "#####  67 % of Americans have a Good FICO Score or better.\n",
    "##### Where as, in our dataset, 95 % have a Good FICO Score or better."
   ]
  },
  {
   "cell_type": "markdown",
   "id": "afda3222",
   "metadata": {},
   "source": [
    "##### -There is a mismatch of around 30 % from the real world scenario. Thus, it surley doesn't reflects the real word in the true sense completely."
   ]
  },
  {
   "cell_type": "markdown",
   "id": "aa6a0479",
   "metadata": {},
   "source": [
    "# Q. 2"
   ]
  },
  {
   "cell_type": "markdown",
   "id": "07863407",
   "metadata": {},
   "source": [
    "##### We have a clean error free data now."
   ]
  },
  {
   "cell_type": "code",
   "execution_count": 25,
   "id": "9f68d849",
   "metadata": {},
   "outputs": [
    {
     "data": {
      "text/html": [
       "<div>\n",
       "<style scoped>\n",
       "    .dataframe tbody tr th:only-of-type {\n",
       "        vertical-align: middle;\n",
       "    }\n",
       "\n",
       "    .dataframe tbody tr th {\n",
       "        vertical-align: top;\n",
       "    }\n",
       "\n",
       "    .dataframe thead th {\n",
       "        text-align: right;\n",
       "    }\n",
       "</style>\n",
       "<table border=\"1\" class=\"dataframe\">\n",
       "  <thead>\n",
       "    <tr style=\"text-align: right;\">\n",
       "      <th></th>\n",
       "      <th>acct_id</th>\n",
       "      <th>FICO</th>\n",
       "      <th>bins</th>\n",
       "    </tr>\n",
       "  </thead>\n",
       "  <tbody>\n",
       "    <tr>\n",
       "      <th>0</th>\n",
       "      <td>1</td>\n",
       "      <td>768.00000</td>\n",
       "      <td>Very Good</td>\n",
       "    </tr>\n",
       "    <tr>\n",
       "      <th>1</th>\n",
       "      <td>2</td>\n",
       "      <td>850.00000</td>\n",
       "      <td>Excellent</td>\n",
       "    </tr>\n",
       "    <tr>\n",
       "      <th>2</th>\n",
       "      <td>3</td>\n",
       "      <td>677.00000</td>\n",
       "      <td>Good</td>\n",
       "    </tr>\n",
       "    <tr>\n",
       "      <th>3</th>\n",
       "      <td>4</td>\n",
       "      <td>843.00000</td>\n",
       "      <td>Excellent</td>\n",
       "    </tr>\n",
       "    <tr>\n",
       "      <th>4</th>\n",
       "      <td>5</td>\n",
       "      <td>796.00000</td>\n",
       "      <td>Very Good</td>\n",
       "    </tr>\n",
       "    <tr>\n",
       "      <th>...</th>\n",
       "      <td>...</td>\n",
       "      <td>...</td>\n",
       "      <td>...</td>\n",
       "    </tr>\n",
       "    <tr>\n",
       "      <th>100008</th>\n",
       "      <td>99996</td>\n",
       "      <td>785.74892</td>\n",
       "      <td>Very Good</td>\n",
       "    </tr>\n",
       "    <tr>\n",
       "      <th>100009</th>\n",
       "      <td>99997</td>\n",
       "      <td>785.74892</td>\n",
       "      <td>Very Good</td>\n",
       "    </tr>\n",
       "    <tr>\n",
       "      <th>100010</th>\n",
       "      <td>99998</td>\n",
       "      <td>785.74892</td>\n",
       "      <td>Very Good</td>\n",
       "    </tr>\n",
       "    <tr>\n",
       "      <th>100011</th>\n",
       "      <td>99999</td>\n",
       "      <td>785.74892</td>\n",
       "      <td>Very Good</td>\n",
       "    </tr>\n",
       "    <tr>\n",
       "      <th>100012</th>\n",
       "      <td>100000</td>\n",
       "      <td>785.74892</td>\n",
       "      <td>Very Good</td>\n",
       "    </tr>\n",
       "  </tbody>\n",
       "</table>\n",
       "<p>100000 rows × 3 columns</p>\n",
       "</div>"
      ],
      "text/plain": [
       "        acct_id       FICO       bins\n",
       "0             1  768.00000  Very Good\n",
       "1             2  850.00000  Excellent\n",
       "2             3  677.00000       Good\n",
       "3             4  843.00000  Excellent\n",
       "4             5  796.00000  Very Good\n",
       "...         ...        ...        ...\n",
       "100008    99996  785.74892  Very Good\n",
       "100009    99997  785.74892  Very Good\n",
       "100010    99998  785.74892  Very Good\n",
       "100011    99999  785.74892  Very Good\n",
       "100012   100000  785.74892  Very Good\n",
       "\n",
       "[100000 rows x 3 columns]"
      ]
     },
     "execution_count": 25,
     "metadata": {},
     "output_type": "execute_result"
    }
   ],
   "source": [
    "df_fico"
   ]
  },
  {
   "cell_type": "code",
   "execution_count": 26,
   "id": "cc72824c",
   "metadata": {},
   "outputs": [
    {
     "data": {
      "text/html": [
       "<div>\n",
       "<style scoped>\n",
       "    .dataframe tbody tr th:only-of-type {\n",
       "        vertical-align: middle;\n",
       "    }\n",
       "\n",
       "    .dataframe tbody tr th {\n",
       "        vertical-align: top;\n",
       "    }\n",
       "\n",
       "    .dataframe thead th {\n",
       "        text-align: right;\n",
       "    }\n",
       "</style>\n",
       "<table border=\"1\" class=\"dataframe\">\n",
       "  <thead>\n",
       "    <tr style=\"text-align: right;\">\n",
       "      <th></th>\n",
       "      <th>acct_id</th>\n",
       "      <th>region</th>\n",
       "    </tr>\n",
       "  </thead>\n",
       "  <tbody>\n",
       "    <tr>\n",
       "      <th>0</th>\n",
       "      <td>1</td>\n",
       "      <td>New York</td>\n",
       "    </tr>\n",
       "    <tr>\n",
       "      <th>1</th>\n",
       "      <td>2</td>\n",
       "      <td>Dallas</td>\n",
       "    </tr>\n",
       "    <tr>\n",
       "      <th>2</th>\n",
       "      <td>3</td>\n",
       "      <td>Los Angeles</td>\n",
       "    </tr>\n",
       "    <tr>\n",
       "      <th>3</th>\n",
       "      <td>4</td>\n",
       "      <td>Chicago</td>\n",
       "    </tr>\n",
       "    <tr>\n",
       "      <th>4</th>\n",
       "      <td>5</td>\n",
       "      <td>Philadelphia</td>\n",
       "    </tr>\n",
       "    <tr>\n",
       "      <th>...</th>\n",
       "      <td>...</td>\n",
       "      <td>...</td>\n",
       "    </tr>\n",
       "    <tr>\n",
       "      <th>100168</th>\n",
       "      <td>99996</td>\n",
       "      <td>Chicago</td>\n",
       "    </tr>\n",
       "    <tr>\n",
       "      <th>100169</th>\n",
       "      <td>99997</td>\n",
       "      <td>New York</td>\n",
       "    </tr>\n",
       "    <tr>\n",
       "      <th>100170</th>\n",
       "      <td>99998</td>\n",
       "      <td>San Diego</td>\n",
       "    </tr>\n",
       "    <tr>\n",
       "      <th>100171</th>\n",
       "      <td>99999</td>\n",
       "      <td>Chicago</td>\n",
       "    </tr>\n",
       "    <tr>\n",
       "      <th>100172</th>\n",
       "      <td>100000</td>\n",
       "      <td>Dallas</td>\n",
       "    </tr>\n",
       "  </tbody>\n",
       "</table>\n",
       "<p>100173 rows × 2 columns</p>\n",
       "</div>"
      ],
      "text/plain": [
       "        acct_id        region\n",
       "0             1      New York\n",
       "1             2        Dallas\n",
       "2             3   Los Angeles\n",
       "3             4       Chicago\n",
       "4             5  Philadelphia\n",
       "...         ...           ...\n",
       "100168    99996       Chicago\n",
       "100169    99997      New York\n",
       "100170    99998     San Diego\n",
       "100171    99999       Chicago\n",
       "100172   100000        Dallas\n",
       "\n",
       "[100173 rows x 2 columns]"
      ]
     },
     "execution_count": 26,
     "metadata": {},
     "output_type": "execute_result"
    }
   ],
   "source": [
    "df_reg=pd.read_csv(r'E:\\Downloads\\region.csv')\n",
    "df_reg"
   ]
  },
  {
   "cell_type": "code",
   "execution_count": 27,
   "id": "263bd716",
   "metadata": {},
   "outputs": [
    {
     "name": "stdout",
     "output_type": "stream",
     "text": [
      "<class 'pandas.core.frame.DataFrame'>\n",
      "RangeIndex: 100173 entries, 0 to 100172\n",
      "Data columns (total 2 columns):\n",
      " #   Column   Non-Null Count   Dtype \n",
      "---  ------   --------------   ----- \n",
      " 0   acct_id  100173 non-null  int64 \n",
      " 1   region   100173 non-null  object\n",
      "dtypes: int64(1), object(1)\n",
      "memory usage: 1.5+ MB\n"
     ]
    }
   ],
   "source": [
    "df_reg.info()"
   ]
  },
  {
   "cell_type": "code",
   "execution_count": 28,
   "id": "a9d1a271",
   "metadata": {},
   "outputs": [],
   "source": [
    "df_5=pd.concat([df_fico,df_reg],axis=1)"
   ]
  },
  {
   "cell_type": "code",
   "execution_count": 29,
   "id": "35be112f",
   "metadata": {},
   "outputs": [
    {
     "data": {
      "text/html": [
       "<div>\n",
       "<style scoped>\n",
       "    .dataframe tbody tr th:only-of-type {\n",
       "        vertical-align: middle;\n",
       "    }\n",
       "\n",
       "    .dataframe tbody tr th {\n",
       "        vertical-align: top;\n",
       "    }\n",
       "\n",
       "    .dataframe thead th {\n",
       "        text-align: right;\n",
       "    }\n",
       "</style>\n",
       "<table border=\"1\" class=\"dataframe\">\n",
       "  <thead>\n",
       "    <tr style=\"text-align: right;\">\n",
       "      <th></th>\n",
       "      <th>acct_id</th>\n",
       "      <th>FICO</th>\n",
       "      <th>bins</th>\n",
       "      <th>region</th>\n",
       "    </tr>\n",
       "  </thead>\n",
       "  <tbody>\n",
       "    <tr>\n",
       "      <th>0</th>\n",
       "      <td>1.0</td>\n",
       "      <td>768.0</td>\n",
       "      <td>Very Good</td>\n",
       "      <td>New York</td>\n",
       "    </tr>\n",
       "    <tr>\n",
       "      <th>1</th>\n",
       "      <td>2.0</td>\n",
       "      <td>850.0</td>\n",
       "      <td>Excellent</td>\n",
       "      <td>Dallas</td>\n",
       "    </tr>\n",
       "    <tr>\n",
       "      <th>2</th>\n",
       "      <td>3.0</td>\n",
       "      <td>677.0</td>\n",
       "      <td>Good</td>\n",
       "      <td>Los Angeles</td>\n",
       "    </tr>\n",
       "    <tr>\n",
       "      <th>3</th>\n",
       "      <td>4.0</td>\n",
       "      <td>843.0</td>\n",
       "      <td>Excellent</td>\n",
       "      <td>Chicago</td>\n",
       "    </tr>\n",
       "    <tr>\n",
       "      <th>4</th>\n",
       "      <td>5.0</td>\n",
       "      <td>796.0</td>\n",
       "      <td>Very Good</td>\n",
       "      <td>Philadelphia</td>\n",
       "    </tr>\n",
       "    <tr>\n",
       "      <th>5</th>\n",
       "      <td>6.0</td>\n",
       "      <td>669.0</td>\n",
       "      <td>Fair</td>\n",
       "      <td>New York</td>\n",
       "    </tr>\n",
       "    <tr>\n",
       "      <th>6</th>\n",
       "      <td>7.0</td>\n",
       "      <td>805.0</td>\n",
       "      <td>Excellent</td>\n",
       "      <td>San Antonio</td>\n",
       "    </tr>\n",
       "    <tr>\n",
       "      <th>7</th>\n",
       "      <td>8.0</td>\n",
       "      <td>850.0</td>\n",
       "      <td>Excellent</td>\n",
       "      <td>San Antonio</td>\n",
       "    </tr>\n",
       "    <tr>\n",
       "      <th>8</th>\n",
       "      <td>9.0</td>\n",
       "      <td>838.0</td>\n",
       "      <td>Excellent</td>\n",
       "      <td>Houston</td>\n",
       "    </tr>\n",
       "    <tr>\n",
       "      <th>9</th>\n",
       "      <td>10.0</td>\n",
       "      <td>850.0</td>\n",
       "      <td>Excellent</td>\n",
       "      <td>Philadelphia</td>\n",
       "    </tr>\n",
       "  </tbody>\n",
       "</table>\n",
       "</div>"
      ],
      "text/plain": [
       "   acct_id   FICO       bins        region\n",
       "0      1.0  768.0  Very Good      New York\n",
       "1      2.0  850.0  Excellent        Dallas\n",
       "2      3.0  677.0       Good   Los Angeles\n",
       "3      4.0  843.0  Excellent       Chicago\n",
       "4      5.0  796.0  Very Good  Philadelphia\n",
       "5      6.0  669.0       Fair      New York\n",
       "6      7.0  805.0  Excellent   San Antonio\n",
       "7      8.0  850.0  Excellent   San Antonio\n",
       "8      9.0  838.0  Excellent       Houston\n",
       "9     10.0  850.0  Excellent  Philadelphia"
      ]
     },
     "execution_count": 29,
     "metadata": {},
     "output_type": "execute_result"
    }
   ],
   "source": [
    "df_5 = df_5.loc[:,~df_5.columns.duplicated()]\n",
    "df_5.head(10)"
   ]
  },
  {
   "cell_type": "code",
   "execution_count": 30,
   "id": "f04820d0",
   "metadata": {},
   "outputs": [
    {
     "data": {
      "text/html": [
       "<div>\n",
       "<style scoped>\n",
       "    .dataframe tbody tr th:only-of-type {\n",
       "        vertical-align: middle;\n",
       "    }\n",
       "\n",
       "    .dataframe tbody tr th {\n",
       "        vertical-align: top;\n",
       "    }\n",
       "\n",
       "    .dataframe thead th {\n",
       "        text-align: right;\n",
       "    }\n",
       "</style>\n",
       "<table border=\"1\" class=\"dataframe\">\n",
       "  <thead>\n",
       "    <tr style=\"text-align: right;\">\n",
       "      <th></th>\n",
       "      <th>FICO</th>\n",
       "      <th>region</th>\n",
       "    </tr>\n",
       "  </thead>\n",
       "  <tbody>\n",
       "    <tr>\n",
       "      <th>74245</th>\n",
       "      <td>785.74892</td>\n",
       "      <td>San Diego</td>\n",
       "    </tr>\n",
       "    <tr>\n",
       "      <th>2090</th>\n",
       "      <td>850.00000</td>\n",
       "      <td>Phoenix</td>\n",
       "    </tr>\n",
       "    <tr>\n",
       "      <th>97797</th>\n",
       "      <td>850.00000</td>\n",
       "      <td>Los Angeles</td>\n",
       "    </tr>\n",
       "    <tr>\n",
       "      <th>95390</th>\n",
       "      <td>785.74892</td>\n",
       "      <td>Philadelphia</td>\n",
       "    </tr>\n",
       "    <tr>\n",
       "      <th>15810</th>\n",
       "      <td>785.74892</td>\n",
       "      <td>Houston</td>\n",
       "    </tr>\n",
       "    <tr>\n",
       "      <th>31416</th>\n",
       "      <td>699.00000</td>\n",
       "      <td>Charlotte</td>\n",
       "    </tr>\n",
       "    <tr>\n",
       "      <th>54769</th>\n",
       "      <td>838.00000</td>\n",
       "      <td>New York</td>\n",
       "    </tr>\n",
       "    <tr>\n",
       "      <th>19016</th>\n",
       "      <td>802.00000</td>\n",
       "      <td>Los Angeles</td>\n",
       "    </tr>\n",
       "    <tr>\n",
       "      <th>79253</th>\n",
       "      <td>785.74892</td>\n",
       "      <td>Los Angeles</td>\n",
       "    </tr>\n",
       "    <tr>\n",
       "      <th>20398</th>\n",
       "      <td>850.00000</td>\n",
       "      <td>San Antonio</td>\n",
       "    </tr>\n",
       "  </tbody>\n",
       "</table>\n",
       "</div>"
      ],
      "text/plain": [
       "            FICO        region\n",
       "74245  785.74892     San Diego\n",
       "2090   850.00000       Phoenix\n",
       "97797  850.00000   Los Angeles\n",
       "95390  785.74892  Philadelphia\n",
       "15810  785.74892       Houston\n",
       "31416  699.00000     Charlotte\n",
       "54769  838.00000      New York\n",
       "19016  802.00000   Los Angeles\n",
       "79253  785.74892   Los Angeles\n",
       "20398  850.00000   San Antonio"
      ]
     },
     "execution_count": 30,
     "metadata": {},
     "output_type": "execute_result"
    }
   ],
   "source": [
    "df_6=pd.DataFrame(df_5,columns=['FICO','region'])\n",
    "df_6.sample(10)"
   ]
  },
  {
   "cell_type": "code",
   "execution_count": 31,
   "id": "01049f38",
   "metadata": {},
   "outputs": [
    {
     "data": {
      "text/html": [
       "<div>\n",
       "<style scoped>\n",
       "    .dataframe tbody tr th:only-of-type {\n",
       "        vertical-align: middle;\n",
       "    }\n",
       "\n",
       "    .dataframe tbody tr th {\n",
       "        vertical-align: top;\n",
       "    }\n",
       "\n",
       "    .dataframe thead th {\n",
       "        text-align: right;\n",
       "    }\n",
       "</style>\n",
       "<table border=\"1\" class=\"dataframe\">\n",
       "  <thead>\n",
       "    <tr style=\"text-align: right;\">\n",
       "      <th></th>\n",
       "      <th>0</th>\n",
       "    </tr>\n",
       "  </thead>\n",
       "  <tbody>\n",
       "    <tr>\n",
       "      <th>FICO</th>\n",
       "      <td>850.0</td>\n",
       "    </tr>\n",
       "    <tr>\n",
       "      <th>region</th>\n",
       "      <td>San Diego</td>\n",
       "    </tr>\n",
       "  </tbody>\n",
       "</table>\n",
       "</div>"
      ],
      "text/plain": [
       "                0\n",
       "FICO        850.0\n",
       "region  San Diego"
      ]
     },
     "execution_count": 31,
     "metadata": {},
     "output_type": "execute_result"
    }
   ],
   "source": [
    "pd.DataFrame(df_6.max())                                  #maximum FICO score in San Diego region"
   ]
  },
  {
   "cell_type": "code",
   "execution_count": 32,
   "id": "791c96be",
   "metadata": {},
   "outputs": [
    {
     "data": {
      "text/html": [
       "<div>\n",
       "<style scoped>\n",
       "    .dataframe tbody tr th:only-of-type {\n",
       "        vertical-align: middle;\n",
       "    }\n",
       "\n",
       "    .dataframe tbody tr th {\n",
       "        vertical-align: top;\n",
       "    }\n",
       "\n",
       "    .dataframe thead th {\n",
       "        text-align: right;\n",
       "    }\n",
       "</style>\n",
       "<table border=\"1\" class=\"dataframe\">\n",
       "  <thead>\n",
       "    <tr style=\"text-align: right;\">\n",
       "      <th></th>\n",
       "      <th>FICO</th>\n",
       "      <th>region</th>\n",
       "    </tr>\n",
       "  </thead>\n",
       "  <tbody>\n",
       "    <tr>\n",
       "      <th>7606</th>\n",
       "      <td>420.0</td>\n",
       "      <td>New York</td>\n",
       "    </tr>\n",
       "  </tbody>\n",
       "</table>\n",
       "</div>"
      ],
      "text/plain": [
       "       FICO    region\n",
       "7606  420.0  New York"
      ]
     },
     "execution_count": 32,
     "metadata": {},
     "output_type": "execute_result"
    }
   ],
   "source": [
    "min_fico=df_6[df_6['FICO']==df_6['FICO'].min()]\n",
    "min_fico                                                    ## minimum fico score in the New York region"
   ]
  },
  {
   "cell_type": "code",
   "execution_count": 33,
   "id": "824652e6",
   "metadata": {},
   "outputs": [
    {
     "data": {
      "text/html": [
       "<div>\n",
       "<style scoped>\n",
       "    .dataframe tbody tr th:only-of-type {\n",
       "        vertical-align: middle;\n",
       "    }\n",
       "\n",
       "    .dataframe tbody tr th {\n",
       "        vertical-align: top;\n",
       "    }\n",
       "\n",
       "    .dataframe thead th {\n",
       "        text-align: right;\n",
       "    }\n",
       "</style>\n",
       "<table border=\"1\" class=\"dataframe\">\n",
       "  <thead>\n",
       "    <tr style=\"text-align: right;\">\n",
       "      <th></th>\n",
       "      <th>FICO</th>\n",
       "      <th>region</th>\n",
       "    </tr>\n",
       "  </thead>\n",
       "  <tbody>\n",
       "    <tr>\n",
       "      <th>11126</th>\n",
       "      <td>850.0</td>\n",
       "      <td>San Antonio</td>\n",
       "    </tr>\n",
       "    <tr>\n",
       "      <th>51025</th>\n",
       "      <td>850.0</td>\n",
       "      <td>Los Angeles</td>\n",
       "    </tr>\n",
       "    <tr>\n",
       "      <th>66703</th>\n",
       "      <td>850.0</td>\n",
       "      <td>Los Angeles</td>\n",
       "    </tr>\n",
       "    <tr>\n",
       "      <th>44392</th>\n",
       "      <td>850.0</td>\n",
       "      <td>Los Angeles</td>\n",
       "    </tr>\n",
       "    <tr>\n",
       "      <th>9511</th>\n",
       "      <td>850.0</td>\n",
       "      <td>Charlotte</td>\n",
       "    </tr>\n",
       "  </tbody>\n",
       "</table>\n",
       "</div>"
      ],
      "text/plain": [
       "        FICO       region\n",
       "11126  850.0  San Antonio\n",
       "51025  850.0  Los Angeles\n",
       "66703  850.0  Los Angeles\n",
       "44392  850.0  Los Angeles\n",
       "9511   850.0    Charlotte"
      ]
     },
     "execution_count": 33,
     "metadata": {},
     "output_type": "execute_result"
    }
   ],
   "source": [
    "max_fico=df_6[df_6['FICO']==df_6['FICO'].max()]\n",
    "max_fico.sample(5)"
   ]
  },
  {
   "cell_type": "code",
   "execution_count": 34,
   "id": "d2fc185a",
   "metadata": {},
   "outputs": [
    {
     "data": {
      "text/plain": [
       "12059"
      ]
     },
     "execution_count": 34,
     "metadata": {},
     "output_type": "execute_result"
    }
   ],
   "source": [
    "len(max_fico)"
   ]
  },
  {
   "cell_type": "markdown",
   "id": "56ff95ed",
   "metadata": {},
   "source": [
    "* There are 12 Thousand people with full fico scores."
   ]
  },
  {
   "cell_type": "markdown",
   "id": "6b69358e",
   "metadata": {},
   "source": [
    "# PART 3"
   ]
  },
  {
   "cell_type": "markdown",
   "id": "8aaab3f7",
   "metadata": {},
   "source": [
    "## Fittlyf Website Data"
   ]
  },
  {
   "cell_type": "code",
   "execution_count": 35,
   "id": "b1b90717",
   "metadata": {},
   "outputs": [
    {
     "data": {
      "text/html": [
       "<div>\n",
       "<style scoped>\n",
       "    .dataframe tbody tr th:only-of-type {\n",
       "        vertical-align: middle;\n",
       "    }\n",
       "\n",
       "    .dataframe tbody tr th {\n",
       "        vertical-align: top;\n",
       "    }\n",
       "\n",
       "    .dataframe thead th {\n",
       "        text-align: right;\n",
       "    }\n",
       "</style>\n",
       "<table border=\"1\" class=\"dataframe\">\n",
       "  <thead>\n",
       "    <tr style=\"text-align: right;\">\n",
       "      <th></th>\n",
       "      <th>evnt_dt</th>\n",
       "      <th>Event</th>\n",
       "      <th>geo_cntry</th>\n",
       "      <th>sessn_id</th>\n",
       "      <th>visitor_id</th>\n",
       "      <th>payload</th>\n",
       "      <th>page_name</th>\n",
       "      <th>devc_name</th>\n",
       "      <th>browser_type</th>\n",
       "      <th>traffic_source</th>\n",
       "      <th>Level 1</th>\n",
       "      <th>Level 2</th>\n",
       "      <th>Level 3</th>\n",
       "      <th>Level 4</th>\n",
       "      <th>Level 5</th>\n",
       "    </tr>\n",
       "  </thead>\n",
       "  <tbody>\n",
       "    <tr>\n",
       "      <th>0</th>\n",
       "      <td>2021-02-02</td>\n",
       "      <td>Impression</td>\n",
       "      <td>France</td>\n",
       "      <td>zxio1f62e501790ad045c35zxioczxio4fcfd9e0c</td>\n",
       "      <td>gc1f62e501790gcd045c35gccgc4fcfd9e0d</td>\n",
       "      <td>isp_mozioxile_ckijrrier=Deutsche Telekom kijG&amp;...</td>\n",
       "      <td>Home Page</td>\n",
       "      <td>Generic Web Browser</td>\n",
       "      <td>Safari</td>\n",
       "      <td>cspreportnodeweb</td>\n",
       "      <td>1.0</td>\n",
       "      <td>0.0</td>\n",
       "      <td>0.0</td>\n",
       "      <td>0.0</td>\n",
       "      <td>0.0</td>\n",
       "    </tr>\n",
       "    <tr>\n",
       "      <th>1</th>\n",
       "      <td>2021-02-02</td>\n",
       "      <td>Impression</td>\n",
       "      <td>France</td>\n",
       "      <td>zxio5zxiod19131790a1d2d7azxio4582fczxio57a97</td>\n",
       "      <td>gc5gcd19131790gc1d2d7gcgc4582fcgc57gc98</td>\n",
       "      <td>isp_mozioxile_ckijrrier=O2 Deutschlkijnd&amp;sessi...</td>\n",
       "      <td>Home Page</td>\n",
       "      <td>Generic Web Browser</td>\n",
       "      <td>Firefox</td>\n",
       "      <td>mppnodeweb</td>\n",
       "      <td>1.0</td>\n",
       "      <td>0.0</td>\n",
       "      <td>0.0</td>\n",
       "      <td>0.0</td>\n",
       "      <td>0.0</td>\n",
       "    </tr>\n",
       "    <tr>\n",
       "      <th>2</th>\n",
       "      <td>2021-02-02</td>\n",
       "      <td>Click</td>\n",
       "      <td>France</td>\n",
       "      <td>zxio42443001790ad0060551a73fcd9066e</td>\n",
       "      <td>3004cgc811770gcd0059ff44fcffdgc0gc27</td>\n",
       "      <td>isp_mozioxile_ckijrrier=PlusServer GmzioxH&amp;ses...</td>\n",
       "      <td>Home Page</td>\n",
       "      <td>Motorola</td>\n",
       "      <td>Chrome Mobile</td>\n",
       "      <td>authchallengenodeweb</td>\n",
       "      <td>0.0</td>\n",
       "      <td>0.0</td>\n",
       "      <td>0.0</td>\n",
       "      <td>0.0</td>\n",
       "      <td>0.0</td>\n",
       "    </tr>\n",
       "    <tr>\n",
       "      <th>3</th>\n",
       "      <td>2021-02-02</td>\n",
       "      <td>Impression</td>\n",
       "      <td>France</td>\n",
       "      <td>zxio49fzxio3f31790ad04624f20adfcd025a0</td>\n",
       "      <td>gc463dcf41790gcd045gc51270efcd938d7</td>\n",
       "      <td>isp_mozioxile_ckijrrier=Vodkijfone Kkijzioxel ...</td>\n",
       "      <td>Home Page</td>\n",
       "      <td>Apple iPhone (iPhone 6 Plus)</td>\n",
       "      <td>Safari</td>\n",
       "      <td>mppnodeweb</td>\n",
       "      <td>1.0</td>\n",
       "      <td>0.0</td>\n",
       "      <td>0.0</td>\n",
       "      <td>0.0</td>\n",
       "      <td>0.0</td>\n",
       "    </tr>\n",
       "    <tr>\n",
       "      <th>4</th>\n",
       "      <td>2021-02-02</td>\n",
       "      <td>Impression</td>\n",
       "      <td>France</td>\n",
       "      <td>zxio623401e1790a2758zxiodzxio164afczxio26736</td>\n",
       "      <td>gc623401e1790gc2758gcdgc164gcfcgc26737</td>\n",
       "      <td>isp_mozioxile_ckijrrier=kijmkijzon.com&amp;session...</td>\n",
       "      <td>Home Page</td>\n",
       "      <td>Generic Web Browser</td>\n",
       "      <td>Chrome</td>\n",
       "      <td>mppnodeweb</td>\n",
       "      <td>1.0</td>\n",
       "      <td>0.0</td>\n",
       "      <td>0.0</td>\n",
       "      <td>0.0</td>\n",
       "      <td>0.0</td>\n",
       "    </tr>\n",
       "  </tbody>\n",
       "</table>\n",
       "</div>"
      ],
      "text/plain": [
       "     evnt_dt       Event geo_cntry  \\\n",
       "0 2021-02-02  Impression    France   \n",
       "1 2021-02-02  Impression    France   \n",
       "2 2021-02-02       Click    France   \n",
       "3 2021-02-02  Impression    France   \n",
       "4 2021-02-02  Impression    France   \n",
       "\n",
       "                                       sessn_id  \\\n",
       "0     zxio1f62e501790ad045c35zxioczxio4fcfd9e0c   \n",
       "1  zxio5zxiod19131790a1d2d7azxio4582fczxio57a97   \n",
       "2           zxio42443001790ad0060551a73fcd9066e   \n",
       "3        zxio49fzxio3f31790ad04624f20adfcd025a0   \n",
       "4  zxio623401e1790a2758zxiodzxio164afczxio26736   \n",
       "\n",
       "                                visitor_id  \\\n",
       "0     gc1f62e501790gcd045c35gccgc4fcfd9e0d   \n",
       "1  gc5gcd19131790gc1d2d7gcgc4582fcgc57gc98   \n",
       "2     3004cgc811770gcd0059ff44fcffdgc0gc27   \n",
       "3      gc463dcf41790gcd045gc51270efcd938d7   \n",
       "4   gc623401e1790gc2758gcdgc164gcfcgc26737   \n",
       "\n",
       "                                             payload  page_name  \\\n",
       "0  isp_mozioxile_ckijrrier=Deutsche Telekom kijG&...  Home Page   \n",
       "1  isp_mozioxile_ckijrrier=O2 Deutschlkijnd&sessi...  Home Page   \n",
       "2  isp_mozioxile_ckijrrier=PlusServer GmzioxH&ses...  Home Page   \n",
       "3  isp_mozioxile_ckijrrier=Vodkijfone Kkijzioxel ...  Home Page   \n",
       "4  isp_mozioxile_ckijrrier=kijmkijzon.com&session...  Home Page   \n",
       "\n",
       "                      devc_name   browser_type        traffic_source  Level 1  \\\n",
       "0           Generic Web Browser         Safari      cspreportnodeweb      1.0   \n",
       "1           Generic Web Browser        Firefox            mppnodeweb      1.0   \n",
       "2                      Motorola  Chrome Mobile  authchallengenodeweb      0.0   \n",
       "3  Apple iPhone (iPhone 6 Plus)         Safari            mppnodeweb      1.0   \n",
       "4           Generic Web Browser         Chrome            mppnodeweb      1.0   \n",
       "\n",
       "   Level 2   Level 3  Level 4   Level 5   \n",
       "0       0.0      0.0       0.0       0.0  \n",
       "1       0.0      0.0       0.0       0.0  \n",
       "2       0.0      0.0       0.0       0.0  \n",
       "3       0.0      0.0       0.0       0.0  \n",
       "4       0.0      0.0       0.0       0.0  "
      ]
     },
     "execution_count": 35,
     "metadata": {},
     "output_type": "execute_result"
    }
   ],
   "source": [
    "f_df=pd.read_excel(r'E:\\Downloads\\Fyttlyf_Website_Data.xlsx')\n",
    "f_df.head()"
   ]
  },
  {
   "cell_type": "code",
   "execution_count": 36,
   "id": "8f051755",
   "metadata": {},
   "outputs": [
    {
     "data": {
      "text/plain": [
       "(101329, 15)"
      ]
     },
     "execution_count": 36,
     "metadata": {},
     "output_type": "execute_result"
    }
   ],
   "source": [
    "f_df.shape"
   ]
  },
  {
   "cell_type": "code",
   "execution_count": 37,
   "id": "611b732f",
   "metadata": {},
   "outputs": [
    {
     "data": {
      "text/plain": [
       "Index(['evnt_dt', 'Event', 'geo_cntry', 'sessn_id', 'visitor_id', 'payload',\n",
       "       'page_name', 'devc_name', 'browser_type', 'traffic_source', 'Level 1',\n",
       "       'Level 2 ', 'Level 3', 'Level 4 ', 'Level 5 '],\n",
       "      dtype='object')"
      ]
     },
     "execution_count": 37,
     "metadata": {},
     "output_type": "execute_result"
    }
   ],
   "source": [
    "f_df.columns"
   ]
  },
  {
   "cell_type": "code",
   "execution_count": 38,
   "id": "dfb841c5",
   "metadata": {},
   "outputs": [
    {
     "name": "stdout",
     "output_type": "stream",
     "text": [
      "<class 'pandas.core.frame.DataFrame'>\n",
      "RangeIndex: 101329 entries, 0 to 101328\n",
      "Data columns (total 15 columns):\n",
      " #   Column          Non-Null Count   Dtype         \n",
      "---  ------          --------------   -----         \n",
      " 0   evnt_dt         101329 non-null  datetime64[ns]\n",
      " 1   Event           101329 non-null  object        \n",
      " 2   geo_cntry       101329 non-null  object        \n",
      " 3   sessn_id        101329 non-null  object        \n",
      " 4   visitor_id      101329 non-null  object        \n",
      " 5   payload         101329 non-null  object        \n",
      " 6   page_name       101314 non-null  object        \n",
      " 7   devc_name       101314 non-null  object        \n",
      " 8   browser_type    101314 non-null  object        \n",
      " 9   traffic_source  101314 non-null  object        \n",
      " 10  Level 1         101314 non-null  float64       \n",
      " 11  Level 2         101314 non-null  float64       \n",
      " 12  Level 3         101314 non-null  float64       \n",
      " 13  Level 4         101314 non-null  float64       \n",
      " 14  Level 5         101314 non-null  float64       \n",
      "dtypes: datetime64[ns](1), float64(5), object(9)\n",
      "memory usage: 11.6+ MB\n"
     ]
    }
   ],
   "source": [
    "f_df.info()"
   ]
  },
  {
   "cell_type": "markdown",
   "id": "07b3cc69",
   "metadata": {},
   "source": [
    "# Q. 4"
   ]
  },
  {
   "cell_type": "markdown",
   "id": "ebbade43",
   "metadata": {},
   "source": [
    "#### We can create a function which basically is a Dictionary type with Key and value. \n",
    "#### The function will take an argumenet Traffic Source and will maintain a value as Level2/Level 1 and so on."
   ]
  },
  {
   "cell_type": "markdown",
   "id": "2cf5ef64",
   "metadata": {},
   "source": [
    "# Q. 5"
   ]
  },
  {
   "cell_type": "code",
   "execution_count": 39,
   "id": "03582f47",
   "metadata": {},
   "outputs": [
    {
     "data": {
      "text/plain": [
       "0         isp_mozioxile_ckijrrier=Deutsche Telekom kijG&...\n",
       "1         isp_mozioxile_ckijrrier=O2 Deutschlkijnd&sessi...\n",
       "2         isp_mozioxile_ckijrrier=PlusServer GmzioxH&ses...\n",
       "3         isp_mozioxile_ckijrrier=Vodkijfone Kkijzioxel ...\n",
       "4         isp_mozioxile_ckijrrier=kijmkijzon.com&session...\n",
       "                                ...                        \n",
       "101324    isp_mozioxile_ckijrrier=Deutsche Telekom kijG&...\n",
       "101325    isp_mozioxile_ckijrrier=O2 Deutschlkijnd&sessi...\n",
       "101326    isp_mozioxile_ckijrrier=EWE-Tel GmzioxH&sessio...\n",
       "101327    isp_mozioxile_ckijrrier=Unitymedikij&session_i...\n",
       "101328    isp_mozioxile_ckijrrier=Telmex&session_id_cook...\n",
       "Name: payload, Length: 101329, dtype: object"
      ]
     },
     "execution_count": 39,
     "metadata": {},
     "output_type": "execute_result"
    }
   ],
   "source": [
    "f_df['payload']"
   ]
  },
  {
   "cell_type": "markdown",
   "id": "c1b7558b",
   "metadata": {},
   "source": [
    "### Here we can split the row enteries as per our convenience.\n",
    "### This is also a dictionart type and can be separated well at the & cut.\n"
   ]
  },
  {
   "cell_type": "markdown",
   "id": "fd89c687",
   "metadata": {},
   "source": [
    "# Q. 6"
   ]
  },
  {
   "cell_type": "code",
   "execution_count": 41,
   "id": "39021cff",
   "metadata": {},
   "outputs": [
    {
     "data": {
      "text/plain": [
       "Impression    67557\n",
       "Click         33772\n",
       "Name: Event, dtype: int64"
      ]
     },
     "execution_count": 41,
     "metadata": {},
     "output_type": "execute_result"
    }
   ],
   "source": [
    "f_df['Event'].value_counts()"
   ]
  },
  {
   "cell_type": "code",
   "execution_count": 42,
   "id": "73e41c16",
   "metadata": {},
   "outputs": [
    {
     "data": {
      "text/plain": [
       "<AxesSubplot:>"
      ]
     },
     "execution_count": 42,
     "metadata": {},
     "output_type": "execute_result"
    },
    {
     "data": {
      "image/png": "[encoded data removed]",
      "text/plain": [
       "<Figure size 432x288 with 1 Axes>"
      ]
     },
     "metadata": {
      "needs_background": "light"
     },
     "output_type": "display_data"
    }
   ],
   "source": [
    "f_df['Event'].value_counts().plot(kind='bar')"
   ]
  },
  {
   "cell_type": "markdown",
   "id": "3125ef0b",
   "metadata": {},
   "source": [
    "##### - We can clearly state that Out of around 1 lakh visitors,\n",
    "##### - Around 68 % users are just seeing the advertisment (Impressions) . He/She are not engaging.\n",
    "##### - Around 35 % users are actually clicking on the link and engaging."
   ]
  },
  {
   "cell_type": "code",
   "execution_count": 43,
   "id": "5a5e2c86",
   "metadata": {},
   "outputs": [
    {
     "data": {
      "text/plain": [
       "France           69728\n",
       "United States    31601\n",
       "Name: geo_cntry, dtype: int64"
      ]
     },
     "execution_count": 43,
     "metadata": {},
     "output_type": "execute_result"
    }
   ],
   "source": [
    "f_df['geo_cntry'].value_counts()"
   ]
  },
  {
   "cell_type": "code",
   "execution_count": 44,
   "id": "f2104d8c",
   "metadata": {},
   "outputs": [
    {
     "data": {
      "text/plain": [
       "<AxesSubplot:>"
      ]
     },
     "execution_count": 44,
     "metadata": {},
     "output_type": "execute_result"
    },
    {
     "data": {
      "image/png": "[encoded data removed]",
      "text/plain": [
       "<Figure size 432x288 with 1 Axes>"
      ]
     },
     "metadata": {
      "needs_background": "light"
     },
     "output_type": "display_data"
    }
   ],
   "source": [
    "f_df['geo_cntry'].value_counts().plot(kind='bar')"
   ]
  },
  {
   "cell_type": "markdown",
   "id": "61412e40",
   "metadata": {},
   "source": [
    "##### - Majority of the Audience is Coming from France (70 %)\n",
    "##### - 30 % audience is coming from United States. "
   ]
  },
  {
   "cell_type": "code",
   "execution_count": 45,
   "id": "157ac6c4",
   "metadata": {},
   "outputs": [
    {
     "data": {
      "text/plain": [
       "<AxesSubplot:xlabel='geo_cntry', ylabel='count'>"
      ]
     },
     "execution_count": 45,
     "metadata": {},
     "output_type": "execute_result"
    },
    {
     "data": {
      "image/png": "[encoded data removed]",
      "text/plain": [
       "<Figure size 432x288 with 1 Axes>"
      ]
     },
     "metadata": {
      "needs_background": "light"
     },
     "output_type": "display_data"
    }
   ],
   "source": [
    "sns.countplot(x='geo_cntry',hue='Event',data=f_df)"
   ]
  },
  {
   "cell_type": "markdown",
   "id": "3ecdbabe",
   "metadata": {},
   "source": [
    "##### - Out of around 35 thousand clicks,\n",
    "##### - Maximum amount of clicks are coming from France. Around (23 thousand)\n",
    "##### - And around (12 thousand clicks) are coming from United States."
   ]
  },
  {
   "cell_type": "markdown",
   "id": "c020692d",
   "metadata": {},
   "source": [
    "### CTR(Click-through rate)\n",
    "\n",
    "### The basic and the General Formula of CTR= Clicks/Impressions"
   ]
  },
  {
   "cell_type": "markdown",
   "id": "8029eaf5",
   "metadata": {},
   "source": [
    "###### France\n",
    "##### CTR for FRANCE = 23 K clicks/ 70 K Impressions"
   ]
  },
  {
   "cell_type": "code",
   "execution_count": 46,
   "id": "07e8c547",
   "metadata": {},
   "outputs": [
    {
     "data": {
      "text/plain": [
       "32.857142857142854"
      ]
     },
     "execution_count": 46,
     "metadata": {},
     "output_type": "execute_result"
    }
   ],
   "source": [
    "CTR_france=23000/70000*100\n",
    "CTR_france"
   ]
  },
  {
   "cell_type": "code",
   "execution_count": 47,
   "id": "a03fe40e",
   "metadata": {},
   "outputs": [
    {
     "data": {
      "text/plain": [
       "40.0"
      ]
     },
     "execution_count": 47,
     "metadata": {},
     "output_type": "execute_result"
    }
   ],
   "source": [
    "CTR_US=12000/30000*100\n",
    "CTR_US"
   ]
  },
  {
   "cell_type": "markdown",
   "id": "84e22cfe",
   "metadata": {},
   "source": [
    "### Therefore,\n",
    "### The CTR OF France is 32 %.\n",
    "### The CTR OF United States is 40 %"
   ]
  },
  {
   "cell_type": "markdown",
   "id": "262bb49d",
   "metadata": {},
   "source": [
    "###### On event basis"
   ]
  },
  {
   "cell_type": "code",
   "execution_count": 48,
   "id": "5b50f103",
   "metadata": {},
   "outputs": [
    {
     "data": {
      "text/plain": [
       "2021-02-02    101329\n",
       "Name: evnt_dt, dtype: int64"
      ]
     },
     "execution_count": 48,
     "metadata": {},
     "output_type": "execute_result"
    }
   ],
   "source": [
    "f_df['evnt_dt'].value_counts()"
   ]
  },
  {
   "cell_type": "markdown",
   "id": "7bc539a0",
   "metadata": {},
   "source": [
    "##### - Since it is a Single day count of Visitors on the Website."
   ]
  },
  {
   "cell_type": "code",
   "execution_count": 49,
   "id": "4656c04c",
   "metadata": {},
   "outputs": [
    {
     "data": {
      "text/plain": [
       "<AxesSubplot:xlabel='evnt_dt', ylabel='count'>"
      ]
     },
     "execution_count": 49,
     "metadata": {},
     "output_type": "execute_result"
    },
    {
     "data": {
      "image/png": "[encoded data removed]",
      "text/plain": [
       "<Figure size 432x288 with 1 Axes>"
      ]
     },
     "metadata": {
      "needs_background": "light"
     },
     "output_type": "display_data"
    }
   ],
   "source": [
    "sns.countplot(x='evnt_dt',hue='Event',data=f_df)"
   ]
  },
  {
   "cell_type": "markdown",
   "id": "c3197b67",
   "metadata": {},
   "source": [
    "###### Highest click in terms of browser_type "
   ]
  },
  {
   "cell_type": "code",
   "execution_count": 50,
   "id": "349395c9",
   "metadata": {},
   "outputs": [
    {
     "data": {
      "text/plain": [
       "Chrome Mobile               29580\n",
       "Chrome                      27226\n",
       "Safari                      20821\n",
       "Firefox                     11357\n",
       "Edge                         5749\n",
       "Samsung Browser              3663\n",
       "Android Browser               984\n",
       "#                             823\n",
       "Internet Explorer             432\n",
       "Opera Mobile                  267\n",
       "MIUI Browser                  181\n",
       "Opera                          67\n",
       "Amazon Silk                    57\n",
       "Opera Touch                    30\n",
       "UC Browser                     20\n",
       "Puffin                          8\n",
       "HeyTap Browser                  8\n",
       "Iron                            6\n",
       "Yandex.Browser                  6\n",
       "Maxthon                         5\n",
       "BlackBerry Browser              4\n",
       "Opera Mini                      4\n",
       "Pale Moon                       4\n",
       "Internet Explorer Mobile        3\n",
       "Vivaldi                         2\n",
       "Nokia S60 Browser               2\n",
       "Firefox Focus                   2\n",
       "Chromium                        1\n",
       "UP.Browser                      1\n",
       "MQQ Browser                     1\n",
       "Name: browser_type, dtype: int64"
      ]
     },
     "execution_count": 50,
     "metadata": {},
     "output_type": "execute_result"
    }
   ],
   "source": [
    "f_df['browser_type'].value_counts()"
   ]
  },
  {
   "cell_type": "code",
   "execution_count": 51,
   "id": "efb1fa42",
   "metadata": {},
   "outputs": [
    {
     "data": {
      "image/png": "[encoded data removed]",
      "text/plain": [
       "<Figure size 432x288 with 1 Axes>"
      ]
     },
     "metadata": {
      "needs_background": "light"
     },
     "output_type": "display_data"
    }
   ],
   "source": [
    "sns.countplot(x='browser_type',hue='Event',data=f_df)\n",
    "plt.xticks(rotation='vertical')\n",
    "plt.show()\n",
    "sns.set(rc={'figure.figsize':(15,10)})"
   ]
  },
  {
   "cell_type": "markdown",
   "id": "b4f02d37",
   "metadata": {},
   "source": [
    "#### We can state:\n",
    "##### - Chrome mobile got the Highest click sessions followed by Chrome desktop and Safari on a Single day."
   ]
  },
  {
   "cell_type": "code",
   "execution_count": 56,
   "id": "44855ae7",
   "metadata": {},
   "outputs": [],
   "source": [
    "## -------------------------------------------------------------------------------------------"
   ]
  }
 ],
 "metadata": {
  "kernelspec": {
   "display_name": "Python 3 (ipykernel)",
   "language": "python",
   "name": "python3"
  },
  "language_info": {
   "codemirror_mode": {
    "name": "ipython",
    "version": 3
   },
   "file_extension": ".py",
   "mimetype": "text/x-python",
   "name": "python",
   "nbconvert_exporter": "python",
   "pygments_lexer": "ipython3",
   "version": "3.8.11"
  }
 },
 "nbformat": 4,
 "nbformat_minor": 5
}
